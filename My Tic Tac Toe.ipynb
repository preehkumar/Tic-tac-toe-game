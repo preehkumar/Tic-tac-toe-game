{
 "cells": [
  {
   "cell_type": "code",
   "execution_count": 1,
   "metadata": {},
   "outputs": [],
   "source": [
    "def displayBoard():\n",
    "    print(' | | ')\n",
    "    print('-'*6 )\n",
    "    print(' | | ')\n",
    "    print('-'*6 )\n",
    "    print(' | | ')"
   ]
  },
  {
   "cell_type": "code",
   "execution_count": 2,
   "metadata": {},
   "outputs": [
    {
     "name": "stdout",
     "output_type": "stream",
     "text": [
      " | | \n",
      "------\n",
      " | | \n",
      "------\n",
      " | | \n"
     ]
    }
   ],
   "source": [
    "displayBoard()"
   ]
  },
  {
   "cell_type": "code",
   "execution_count": 3,
   "metadata": {},
   "outputs": [],
   "source": [
    "board=['O','X','O','X','O','X','O','X','O','X']"
   ]
  },
  {
   "cell_type": "code",
   "execution_count": 4,
   "metadata": {},
   "outputs": [],
   "source": [
    "from IPython.display import clear_output\n",
    "def displayBoard(board):\n",
    "    clear_output()\n",
    "    print(' '+board[7]+'|'+ board[8] + '|' + board[9])\n",
    "    print('-'*6 )\n",
    "    print(' '+board[4]+'|'+ board[5] + '|' + board[6])\n",
    "    print('-'*6 )\n",
    "    print(' '+board[1]+'|'+ board[2] + '|' + board[3])\n",
    "    print('-'*6 )"
   ]
  },
  {
   "cell_type": "code",
   "execution_count": 5,
   "metadata": {},
   "outputs": [
    {
     "name": "stdout",
     "output_type": "stream",
     "text": [
      " X|O|X\n",
      "------\n",
      " O|X|O\n",
      "------\n",
      " X|O|X\n",
      "------\n"
     ]
    }
   ],
   "source": [
    "displayBoard(board)"
   ]
  },
  {
   "cell_type": "markdown",
   "metadata": {},
   "source": [
    "# Assignment of the maker to the players"
   ]
  },
  {
   "cell_type": "code",
   "execution_count": 6,
   "metadata": {},
   "outputs": [],
   "source": [
    "def playerInput():\n",
    "    marker= ' '\n",
    "    while not (marker =='X' or marker == 'O'):\n",
    "        marker = input('Player One: Please enter your marker X or O :').upper()\n",
    "        if marker == 'X':\n",
    "            return ('X', 'O')\n",
    "        else:\n",
    "            return ('O', 'X')\n",
    "             "
   ]
  },
  {
   "cell_type": "code",
   "execution_count": 7,
   "metadata": {},
   "outputs": [
    {
     "name": "stdout",
     "output_type": "stream",
     "text": [
      "Player One: Please enter your marker X or O :X\n"
     ]
    },
    {
     "data": {
      "text/plain": [
       "('X', 'O')"
      ]
     },
     "execution_count": 7,
     "metadata": {},
     "output_type": "execute_result"
    }
   ],
   "source": [
    "playerInput()"
   ]
  },
  {
   "cell_type": "markdown",
   "metadata": {},
   "source": [
    "# Placing a a Marker"
   ]
  },
  {
   "cell_type": "code",
   "execution_count": 8,
   "metadata": {},
   "outputs": [],
   "source": [
    "def placeMarker(board, marker, position):\n",
    "    board[position] = marker"
   ]
  },
  {
   "cell_type": "code",
   "execution_count": 9,
   "metadata": {},
   "outputs": [
    {
     "data": {
      "text/plain": [
       "['O', 'X', 'O', 'X', 'O', 'X', 'O', 'X', 'O', 'X']"
      ]
     },
     "execution_count": 9,
     "metadata": {},
     "output_type": "execute_result"
    }
   ],
   "source": [
    "board"
   ]
  },
  {
   "cell_type": "code",
   "execution_count": 10,
   "metadata": {},
   "outputs": [],
   "source": [
    "placeMarker(board, 'X', 2)"
   ]
  },
  {
   "cell_type": "code",
   "execution_count": 11,
   "metadata": {},
   "outputs": [
    {
     "data": {
      "text/plain": [
       "['O', 'X', 'X', 'X', 'O', 'X', 'O', 'X', 'O', 'X']"
      ]
     },
     "execution_count": 11,
     "metadata": {},
     "output_type": "execute_result"
    }
   ],
   "source": [
    "board"
   ]
  },
  {
   "cell_type": "markdown",
   "metadata": {},
   "source": [
    "# Check if we have any winner"
   ]
  },
  {
   "cell_type": "code",
   "execution_count": 12,
   "metadata": {},
   "outputs": [],
   "source": [
    "def winnerCheck(board, mark):\n",
    "    myBool=   ( (board[1]==mark and board[2]== mark and board[3]==mark) \n",
    "             or (board[4]==mark and board[5]== mark and board[6]==mark)\n",
    "             or (board[7]==mark and board[8]== mark and board[9]==mark) \n",
    "             or (board[7]==mark and board[4]== mark and board[1]==mark) \n",
    "             or (board[8]==mark and board[5]== mark and board[2]==mark) \n",
    "             or (board[9]==mark and board[6]== mark and board[3]==mark)\n",
    "             or (board[7]==mark and board[5]== mark and board[3]==mark) \n",
    "             or (board[9]==mark and board[5]== mark and board[1]==mark))\n",
    "    return myBool\n",
    "    "
   ]
  },
  {
   "cell_type": "code",
   "execution_count": 13,
   "metadata": {},
   "outputs": [
    {
     "data": {
      "text/plain": [
       "True"
      ]
     },
     "execution_count": 13,
     "metadata": {},
     "output_type": "execute_result"
    }
   ],
   "source": [
    "winnerCheck(board, 'X')"
   ]
  },
  {
   "cell_type": "code",
   "execution_count": 14,
   "metadata": {},
   "outputs": [
    {
     "data": {
      "text/plain": [
       "False"
      ]
     },
     "execution_count": 14,
     "metadata": {},
     "output_type": "execute_result"
    }
   ],
   "source": [
    "winnerCheck(board, 'O')"
   ]
  },
  {
   "cell_type": "markdown",
   "metadata": {},
   "source": [
    "# Randomly selecting a player to go first"
   ]
  },
  {
   "cell_type": "code",
   "execution_count": 15,
   "metadata": {},
   "outputs": [],
   "source": [
    "import random\n",
    "\n",
    "def chooseFirst():\n",
    "    if random.randint(1,2) == 1:\n",
    "        return 'Player 1'\n",
    "    else:\n",
    "        return 'Player 2'"
   ]
  },
  {
   "cell_type": "code",
   "execution_count": 16,
   "metadata": {},
   "outputs": [
    {
     "data": {
      "text/plain": [
       "'Player 1'"
      ]
     },
     "execution_count": 16,
     "metadata": {},
     "output_type": "execute_result"
    }
   ],
   "source": [
    "chooseFirst()"
   ]
  },
  {
   "cell_type": "code",
   "execution_count": 17,
   "metadata": {},
   "outputs": [
    {
     "data": {
      "text/plain": [
       "'Player 1'"
      ]
     },
     "execution_count": 17,
     "metadata": {},
     "output_type": "execute_result"
    }
   ],
   "source": [
    "chooseFirst()"
   ]
  },
  {
   "cell_type": "markdown",
   "metadata": {},
   "source": [
    "# Particualar space is empty or not"
   ]
  },
  {
   "cell_type": "code",
   "execution_count": 18,
   "metadata": {},
   "outputs": [],
   "source": [
    "def spaceCheck(board, position):\n",
    "  return board[position] ==' '"
   ]
  },
  {
   "cell_type": "code",
   "execution_count": 19,
   "metadata": {},
   "outputs": [
    {
     "data": {
      "text/plain": [
       "False"
      ]
     },
     "execution_count": 19,
     "metadata": {},
     "output_type": "execute_result"
    }
   ],
   "source": [
    "spaceCheck(board, 5)"
   ]
  },
  {
   "cell_type": "markdown",
   "metadata": {},
   "source": [
    "# Is the board full or not"
   ]
  },
  {
   "cell_type": "code",
   "execution_count": null,
   "metadata": {},
   "outputs": [],
   "source": [
    "def fullBoradCheck(board):\n",
    "    for i in range(1,10):\n",
    "        if(spaceCheck(board, i)):\n",
    "            return False\n",
    "    return True"
   ]
  },
  {
   "cell_type": "code",
   "execution_count": null,
   "metadata": {},
   "outputs": [
    {
     "data": {
      "text/plain": [
       "True"
      ]
     },
     "execution_count": 21,
     "metadata": {},
     "output_type": "execute_result"
    }
   ],
   "source": [
    "fullBoradCheck(board)"
   ]
  },
  {
   "cell_type": "markdown",
   "metadata": {},
   "source": [
    "# Take players next position and validate that"
   ]
  },
  {
   "cell_type": "code",
   "execution_count": null,
   "metadata": {},
   "outputs": [],
   "source": [
    "def nextPlayersChoice(board):\n",
    "    position = 0\n",
    "    while position not in [1,2,3,4,5,6,7,8,9] or not spaceCheck(board, position):\n",
    "        position = int(input(\"Enter the psition (1 to 9):\"))\n",
    "    return position"
   ]
  },
  {
   "cell_type": "markdown",
   "metadata": {},
   "source": [
    "## nextPlayersChoice(board)"
   ]
  },
  {
   "cell_type": "markdown",
   "metadata": {},
   "source": [
    "# Play again or not"
   ]
  },
  {
   "cell_type": "code",
   "execution_count": null,
   "metadata": {},
   "outputs": [],
   "source": [
    "def playAgain():\n",
    "    \n",
    "    return input('Would you like to play again the game, (yes, no) :').lower().startswith('y')"
   ]
  },
  {
   "cell_type": "code",
   "execution_count": null,
   "metadata": {},
   "outputs": [
    {
     "name": "stdout",
     "output_type": "stream",
     "text": [
      "Would you like to play again the game, (yes, no) :yes\n"
     ]
    },
    {
     "data": {
      "text/plain": [
       "True"
      ]
     },
     "execution_count": 24,
     "metadata": {},
     "output_type": "execute_result"
    }
   ],
   "source": [
    "playAgain()"
   ]
  },
  {
   "cell_type": "code",
   "execution_count": null,
   "metadata": {},
   "outputs": [],
   "source": []
  },
  {
   "cell_type": "markdown",
   "metadata": {},
   "source": [
    "# Final Assembly of the code blocks"
   ]
  },
  {
   "cell_type": "code",
   "execution_count": null,
   "metadata": {},
   "outputs": [
    {
     "name": "stdout",
     "output_type": "stream",
     "text": [
      " X|X|O\n",
      "------\n",
      " O|O|X\n",
      "------\n",
      " X|O|X\n",
      "------\n",
      "Game has drawn\n"
     ]
    }
   ],
   "source": [
    "print (\"Welcome my Tic tac toe\")\n",
    "while True:\n",
    "    newBoard=[' ']*10\n",
    "    player1Marker, player2Marker= playerInput()\n",
    "    turn=chooseFirst()\n",
    "    print(turn+' Will go first in the game')\n",
    "    playGame=input(\"Are you ready ? Yes or No \")\n",
    "    if playGame.lower()[0]=='y':\n",
    "        gameOn=True\n",
    "    else:\n",
    "        gameOn=False\n",
    "    while gameOn:\n",
    "        if turn == 'Player 1':\n",
    "            displayBoard(newBoard)\n",
    "            position = nextPlayersChoice(newBoard)\n",
    "            placeMarker(newBoard,player1Marker, position)\n",
    "            \n",
    "            if winnerCheck(newBoard,player1Marker ):\n",
    "                displayBoard(newBoard)\n",
    "                print('Congrats ! You have won the Game !')\n",
    "                gameOn=False\n",
    "            else:\n",
    "                if fullBoradCheck(newBoard):\n",
    "                    displayBoard(newBoard)\n",
    "                    print('Game has drawn')\n",
    "                    break\n",
    "                else:\n",
    "                    turn = 'Player 2'\n",
    "        else:\n",
    "            displayBoard(newBoard)\n",
    "            position = nextPlayersChoice(newBoard)\n",
    "            placeMarker(newBoard,player2Marker, position)\n",
    "            \n",
    "            if winnerCheck(newBoard,player2Marker ):\n",
    "                displayBoard(newBoard)\n",
    "                print('Congrats ! You have won the Game !')\n",
    "                gameOn=False\n",
    "            else:\n",
    "                if fullBoradCheck(newBoard):\n",
    "                    displayBoard(newBoard)\n",
    "                    print('Game has drawn')\n",
    "                    break\n",
    "                else:\n",
    "                    turn = 'Player 1'\n",
    "        if not playAgain():\n",
    "            break\n",
    "            \n",
    "         \n",
    "                    \n",
    "                    \n",
    "    "
   ]
  },
  {
   "cell_type": "code",
   "execution_count": null,
   "metadata": {},
   "outputs": [],
   "source": []
  }
 ],
 "metadata": {
  "kernelspec": {
   "display_name": "Python 3",
   "language": "python",
   "name": "python3"
  },
  "language_info": {
   "codemirror_mode": {
    "name": "ipython",
    "version": 3
   },
   "file_extension": ".py",
   "mimetype": "text/x-python",
   "name": "python",
   "nbconvert_exporter": "python",
   "pygments_lexer": "ipython3",
   "version": "3.7.1"
  }
 },
 "nbformat": 4,
 "nbformat_minor": 2
}
